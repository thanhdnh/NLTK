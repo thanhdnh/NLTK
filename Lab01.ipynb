{
 "cells": [
  {
   "cell_type": "code",
   "execution_count": 1,
   "metadata": {},
   "outputs": [],
   "source": [
    "# import ssl\n",
    "\n",
    "# try:\n",
    "#    _create_unverified_https_context = ssl._create_unverified_context\n",
    "#except AttributeError:\n",
    "#    pass\n",
    "#else:\n",
    "#    ssl._create_default_https_context = _create_unverified_https_context"
   ]
  },
  {
   "cell_type": "code",
   "execution_count": 2,
   "metadata": {},
   "outputs": [
    {
     "name": "stdout",
     "output_type": "stream",
     "text": [
      "showing info https://raw.githubusercontent.com/nltk/nltk_data/gh-pages/index.xml\n"
     ]
    },
    {
     "data": {
      "text/plain": [
       "True"
      ]
     },
     "execution_count": 2,
     "metadata": {},
     "output_type": "execute_result"
    }
   ],
   "source": [
    "import nltk\n",
    "# nltk.download()"
   ]
  },
  {
   "cell_type": "code",
   "execution_count": 1,
   "metadata": {},
   "outputs": [
    {
     "name": "stdout",
     "output_type": "stream",
     "text": [
      "*** Introductory Examples for the NLTK Book ***\n",
      "Loading text1, ..., text9 and sent1, ..., sent9\n",
      "Type the name of the text or sentence to view it.\n",
      "Type: 'texts()' or 'sents()' to list the materials.\n",
      "text1: Moby Dick by Herman Melville 1851\n",
      "text2: Sense and Sensibility by Jane Austen 1811\n",
      "text3: The Book of Genesis\n",
      "text4: Inaugural Address Corpus\n",
      "text5: Chat Corpus\n",
      "text6: Monty Python and the Holy Grail\n",
      "text7: Wall Street Journal\n",
      "text8: Personals Corpus\n",
      "text9: The Man Who Was Thursday by G . K . Chesterton 1908\n"
     ]
    }
   ],
   "source": [
    "from nltk.book import *"
   ]
  },
  {
   "cell_type": "markdown",
   "metadata": {},
   "source": [
    "-----------------------------------"
   ]
  },
  {
   "cell_type": "code",
   "execution_count": 3,
   "metadata": {},
   "outputs": [
    {
     "name": "stdout",
     "output_type": "stream",
     "text": [
      "[5, 3, 2, 4, 3, 4, 1, 4, 2, 4, 4, 4, 1]\n"
     ]
    }
   ],
   "source": [
    "items = ['after','all','is','said','and','done',',','more','is','said','than','done','.']\n",
    "lengths =[]\n",
    "for i in items:\n",
    "    lengths.append(len(i))\n",
    "print(lengths)"
   ]
  },
  {
   "cell_type": "code",
   "execution_count": 4,
   "metadata": {},
   "outputs": [
    {
     "name": "stdout",
     "output_type": "stream",
     "text": [
      "['newly', 'formed', 'bland', 'ideas', 'are', 'inexpressible', 'in', 'an', 'infuriating', 'way']\n",
      "eoldrnnnna\n",
      "newly formed bland ideas are inexpressible in an infuriating way\n",
      "an\n",
      "are\n",
      "bland\n",
      "formed\n",
      "ideas\n",
      "in\n",
      "inexpressible\n",
      "infuriating\n",
      "newly\n",
      "way\n"
     ]
    }
   ],
   "source": [
    "silly='newly formed bland ideas are inexpressible in an infuriating way'\n",
    "\n",
    "bland=silly.split(' ')\n",
    "print(bland)\n",
    "word=''\n",
    "for w in bland:\n",
    "    word+=w[1]\n",
    "print(word)\n",
    "\n",
    "j_word=' '.join(bland)\n",
    "print(j_word)\n",
    "\n",
    "sort=sorted(bland)\n",
    "for w in sort:\n",
    "    print(w)"
   ]
  },
  {
   "cell_type": "code",
   "execution_count": 7,
   "metadata": {},
   "outputs": [],
   "source": [
    "from nltk import word_tokenize"
   ]
  },
  {
   "cell_type": "code",
   "execution_count": null,
   "metadata": {},
   "outputs": [],
   "source": [
    "nltk.download('punkt')"
   ]
  },
  {
   "cell_type": "code",
   "execution_count": 16,
   "metadata": {},
   "outputs": [],
   "source": [
    "raw = 'Dennis: The man who loves Juliet, he is a teacher in England'\n",
    "text = word_tokenize(raw)"
   ]
  },
  {
   "cell_type": "code",
   "execution_count": 9,
   "metadata": {},
   "outputs": [],
   "source": [
    "from nltk import PorterStemmer\n",
    "from nltk import LancasterStemmer"
   ]
  },
  {
   "cell_type": "code",
   "execution_count": 15,
   "metadata": {},
   "outputs": [],
   "source": [
    "porter = PorterStemmer()\n",
    "lancaster = LancasterStemmer()"
   ]
  },
  {
   "cell_type": "code",
   "execution_count": 17,
   "metadata": {},
   "outputs": [
    {
     "name": "stdout",
     "output_type": "stream",
     "text": [
      "Dennis\n",
      "Porter: denni\n",
      "Lancaster: den\n",
      ":\n",
      "Porter: :\n",
      "Lancaster: :\n",
      "The\n",
      "Porter: the\n",
      "Lancaster: the\n",
      "man\n",
      "Porter: man\n",
      "Lancaster: man\n",
      "who\n",
      "Porter: who\n",
      "Lancaster: who\n",
      "loves\n",
      "Porter: love\n",
      "Lancaster: lov\n",
      "Juliet\n",
      "Porter: juliet\n",
      "Lancaster: juliet\n",
      ",\n",
      "Porter: ,\n",
      "Lancaster: ,\n",
      "he\n",
      "Porter: he\n",
      "Lancaster: he\n",
      "is\n",
      "Porter: is\n",
      "Lancaster: is\n",
      "a\n",
      "Porter: a\n",
      "Lancaster: a\n",
      "teacher\n",
      "Porter: teacher\n",
      "Lancaster: teach\n",
      "in\n",
      "Porter: in\n",
      "Lancaster: in\n",
      "England\n",
      "Porter: england\n",
      "Lancaster: england\n"
     ]
    }
   ],
   "source": [
    "for word in text:\n",
    "    print(word)\n",
    "    print('Porter: ' + porter.stem(word))\n",
    "    print('Lancaster: ' + lancaster.stem(word))"
   ]
  },
  {
   "cell_type": "code",
   "execution_count": 18,
   "metadata": {},
   "outputs": [
    {
     "name": "stdout",
     "output_type": "stream",
     "text": [
      "vitri 7\n",
      "1\n",
      "['newly', 'formed', 'bland', 'ideas', 'are', 'inexpressible']\n"
     ]
    }
   ],
   "source": [
    "#33\n",
    "#a\n",
    "print('vitri','invexpressible'.index('re'))\n",
    "#b\n",
    "words=['hom','nay','la','thu','ba']\n",
    "print(words.index('nay'))\n",
    "#c\n",
    "silly_list=silly.split()\n",
    "silly_list_cut=silly_list[:silly_list.index('in')]\n",
    "print(silly_list_cut)"
   ]
  },
  {
   "cell_type": "code",
   "execution_count": 28,
   "metadata": {},
   "outputs": [
    {
     "data": {
      "text/plain": [
       "['as best as I can', 'As best as she can']"
      ]
     },
     "execution_count": 28,
     "metadata": {},
     "output_type": "execute_result"
    }
   ],
   "source": [
    "#35\n",
    "import re\n",
    "text =\"\"\"\n",
    "I wil straight dispose, as best I can, th'inferiour Magistrate...\n",
    "And I haue thrust my selfe into this maze, \n",
    "Happily to wiue and thriue, as best I may ...\n",
    "In fine, my life is that of a great schoolboy, getting into scrapes for the fun of it, and fighting my way out as best as I can!\n",
    "As best as she can \n",
    "she hides herself \n",
    "in the full sunlight \"\"\"\n",
    "re.findall(r'(?i)as best (?:as)? (?:I|they|we|he|she|you|it) can',text)"
   ]
  },
  {
   "cell_type": "code",
   "execution_count": 29,
   "metadata": {},
   "outputs": [
    {
     "data": {
      "text/plain": [
       "'diz iz how2 defien regoolar expresshuns2 convert English werdz inot corresponding lolspeak werdz'"
      ]
     },
     "execution_count": 29,
     "metadata": {},
     "output_type": "execute_result"
    }
   ],
   "source": [
    "#36\n",
    "text = 'this is how to define regular expressions to convert English words into corresponding lolspeak words'\n",
    "text = re.sub(r'\\b(th)','d',text)\n",
    "text = re.sub(r'\\s(to)','2',text)\n",
    "text = re.sub(r'([b-df-hj-np-tv-z])([aioeu])\\b',r'\\2\\1',text)\n",
    "text = re.sub(r'(u)','oo',text)\n",
    "text = re.sub(r'(sion)','shun',text)\n",
    "text = re.sub(r'(s)\\b','z',text)\n",
    "text = re.sub(r'(ord)','erd',text)\n",
    "text"
   ]
  },
  {
   "cell_type": "code",
   "execution_count": 32,
   "metadata": {},
   "outputs": [
    {
     "name": "stdout",
     "output_type": "stream",
     "text": [
      "   My First Heading My first paragraph.   \n"
     ]
    }
   ],
   "source": [
    "from ast import pattern\n",
    "from pandas import read_html\n",
    "\n",
    "\n",
    "ex=\"\"\"\n",
    "<html>\n",
    "<body>\n",
    "<h1>My First Heading</h1>\n",
    "<p>My first paragraph.</p>\n",
    "</body>\n",
    "</html>\n",
    "\"\"\"\n",
    "ax=ex\n",
    "p_ax = re.compile(r'<[^>]+>')\n",
    "p_text= p_ax.sub('',ax)\n",
    "p_ax= re.compile(r'\\s')\n",
    "p_text=p_ax.sub(' ',p_text)\n",
    "print(p_text)"
   ]
  },
  {
   "cell_type": "code",
   "execution_count": 48,
   "metadata": {},
   "outputs": [
    {
     "data": {
      "text/plain": [
       "[' -\\nterm']"
      ]
     },
     "execution_count": 48,
     "metadata": {},
     "output_type": "execute_result"
    }
   ],
   "source": [
    "text = \"\"\"\" long -\n",
    "term\"\"\"\n",
    "pattern = r'\\W+-\\n\\w+'\n",
    "re.findall(pattern,text)"
   ]
  },
  {
   "cell_type": "code",
   "execution_count": 43,
   "metadata": {},
   "outputs": [
    {
     "data": {
      "text/plain": [
       "'\" long -\\nterm'"
      ]
     },
     "execution_count": 43,
     "metadata": {},
     "output_type": "execute_result"
    }
   ],
   "source": [
    "pattern =r'(\\W+-)(\\n)(\\W+)'\n",
    "re.findall(pattern, text)\n",
    "re.sub(pattern,r'\\1\\3',text)"
   ]
  }
 ],
 "metadata": {
  "kernelspec": {
   "display_name": "Python 3.10.3 64-bit",
   "language": "python",
   "name": "python3"
  },
  "language_info": {
   "codemirror_mode": {
    "name": "ipython",
    "version": 3
   },
   "file_extension": ".py",
   "mimetype": "text/x-python",
   "name": "python",
   "nbconvert_exporter": "python",
   "pygments_lexer": "ipython3",
   "version": "3.10.3"
  },
  "orig_nbformat": 4,
  "vscode": {
   "interpreter": {
    "hash": "aee8b7b246df8f9039afb4144a1f6fd8d2ca17a180786b69acc140d282b71a49"
   }
  }
 },
 "nbformat": 4,
 "nbformat_minor": 2
}
