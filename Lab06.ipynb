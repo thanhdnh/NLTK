{
 "cells": [
  {
   "cell_type": "code",
   "execution_count": 51,
   "metadata": {},
   "outputs": [
    {
     "name": "stdout",
     "output_type": "stream",
     "text": [
      "Most Informative Features\n",
      "   contains(outstanding) = True              pos : neg    =     10.5 : 1.0\n",
      "         contains(mulan) = True              pos : neg    =      8.8 : 1.0\n",
      "        contains(seagal) = True              neg : pos    =      7.9 : 1.0\n",
      "         contains(damon) = True              pos : neg    =      7.4 : 1.0\n",
      "   contains(wonderfully) = True              pos : neg    =      6.8 : 1.0\n",
      "          contains(lame) = True              neg : pos    =      5.6 : 1.0\n",
      "         contains(flynt) = True              pos : neg    =      5.6 : 1.0\n",
      "        contains(poorly) = True              neg : pos    =      5.5 : 1.0\n",
      "        contains(wasted) = True              neg : pos    =      5.4 : 1.0\n",
      "          contains(jedi) = True              pos : neg    =      5.2 : 1.0\n",
      "         contains(awful) = True              neg : pos    =      5.1 : 1.0\n",
      "         contains(waste) = True              neg : pos    =      4.8 : 1.0\n",
      "    contains(ridiculous) = True              neg : pos    =      4.7 : 1.0\n",
      "           contains(era) = True              pos : neg    =      4.5 : 1.0\n",
      "         contains(worst) = True              neg : pos    =      4.4 : 1.0\n",
      "        contains(allows) = True              pos : neg    =      4.3 : 1.0\n",
      "       contains(unfunny) = True              neg : pos    =      4.2 : 1.0\n",
      "        contains(stupid) = True              neg : pos    =      4.1 : 1.0\n",
      "      contains(terrific) = True              pos : neg    =      4.1 : 1.0\n",
      "          contains(dull) = True              neg : pos    =      4.0 : 1.0\n",
      "         contains(bland) = True              neg : pos    =      3.9 : 1.0\n",
      "     contains(fantastic) = True              pos : neg    =      3.9 : 1.0\n",
      "        contains(superb) = True              pos : neg    =      3.8 : 1.0\n",
      "          contains(mess) = True              neg : pos    =      3.8 : 1.0\n",
      "     contains(portrayed) = True              pos : neg    =      3.8 : 1.0\n",
      "     contains(laughable) = True              neg : pos    =      3.8 : 1.0\n",
      "     contains(portrayal) = True              pos : neg    =      3.7 : 1.0\n",
      "     contains(memorable) = True              pos : neg    =      3.7 : 1.0\n",
      "          contains(zero) = True              neg : pos    =      3.6 : 1.0\n",
      "     contains(pointless) = True              neg : pos    =      3.6 : 1.0\n"
     ]
    }
   ],
   "source": [
    "# Câu 4\n",
    "import nltk\n",
    "import random\n",
    "\n",
    "from nltk.corpus import movie_reviews\n",
    "documents = [(list(movie_reviews.words(fileid)), category)\n",
    "            for category in movie_reviews.categories()\n",
    "            for fileid in movie_reviews.fileids(category)]\n",
    "random.shuffle(documents)\n",
    "all_words = nltk.FreqDist(w.lower() for w in movie_reviews.words())\n",
    "word_features = list(all_words)[:2000]\n",
    "\n",
    "def document_features(document):\n",
    "    document_words = set(document)\n",
    "    features = {}\n",
    "    for word in word_features:\n",
    "        features['contains({})'.format(word)] = (word in document_words)\n",
    "    return features\n",
    "featuresets = [(document_features(d), c) for (d, c) in documents]\n",
    "train_set, test_set = featuresets[100:],featuresets[:100]\n",
    "classifier = nltk.NaiveBayesClassifier.train(train_set)\n",
    "classifier.show_most_informative_features(30)"
   ]
  },
  {
   "cell_type": "code",
   "execution_count": 52,
   "metadata": {},
   "outputs": [
    {
     "name": "stdout",
     "output_type": "stream",
     "text": [
      "pos 0.5042083114150446\n",
      "neg 0.4957916885849552\n"
     ]
    }
   ],
   "source": [
    "fdic = {k: featuresets[k] for k in range(len(featuresets))}\n",
    "prob = classifier.prob_classify(fdic)\n",
    "for label in prob.samples():\n",
    "    print(label + \" \" + str(prob.prob(label)))"
   ]
  },
  {
   "cell_type": "code",
   "execution_count": 50,
   "metadata": {},
   "outputs": [
    {
     "name": "stdout",
     "output_type": "stream",
     "text": [
      "now im left with this gay name Statement\n",
      ":P Emotion\n",
      "PART System\n",
      "hey everyone   Greet\n",
      "ah well Statement\n",
      "NICK :10-19-20sUser7 System\n",
      "10-19-20sUser7 is a gay name. Accept\n",
      ".ACTION gives 10-19-20sUser121 a golf clap. System\n",
      ":) Emotion\n",
      "JOIN System\n",
      "hi 10-19-20sUser59 Greet\n",
      "26/ m/ ky women that are nice please pm me Statement\n",
      "JOIN System\n",
      "PART System\n",
      "there ya go 10-19-20sUser7 Statement\n",
      "don't golf clap me. Reject\n",
      "fuck you 10-19-20sUser121:@ Reject\n",
      "whats everyone up to? whQuestion\n",
      "PART System\n",
      "PART System\n",
      "{'Accept', 'Greet', 'Reject', 'Clarify', 'System', 'whQuestion', 'Statement', 'Continuer', 'ynQuestion', 'yAnswer', 'Bye', 'nAnswer', 'Emphasis', 'Emotion', 'Other'}0.3339640491958373\n"
     ]
    }
   ],
   "source": [
    "#bai7\n",
    "post = nltk.corpus.nps_chat.xml_posts()\n",
    "for i in range(20):\n",
    "    print(post[i].text, post[i].get('class'))\n",
    "for w in post[i].text.split():\n",
    "    post_words = [w.lower() for i in range(len(post))]\n",
    "fd = nltk.FreqDist(post_words)\n",
    "word_features = [w for (w,_) in fd.most_common(2000)]\n",
    "def dialog_features(post,i):\n",
    "    post_words = set(post[i].text.split())\n",
    "    features ={}\n",
    "    for word in word_features:\n",
    "        features['contain({})'.format(word)]=(word in post_words)\n",
    "    if i==0:\n",
    "        features[\"prev-class\"]=\"\"\n",
    "    else:\n",
    "        features[\"prev-class\"] = post[i-1].get('class')\n",
    "    return features\n",
    "set(post[0].text.split())\n",
    "featuresets=[]\n",
    "for i in range(len(post)):\n",
    "    featuresets.append((dialog_features(post,i),post[i].get('class')))\n",
    "\n",
    "size = int(len(featuresets)*0.9)\n",
    "train_set, test_set = featuresets[:size], featuresets[size:]\n",
    "classifier = nltk.NaiveBayesClassifier.train(train_set)\n",
    "\n",
    "classes = set([c for (_,c) in featuresets])\n",
    "len(classes)\n",
    "\n",
    "print(classes,end='')\n",
    "print(nltk.classify.accuracy(classifier,test_set))\n"
   ]
  }
 ],
 "metadata": {
  "kernelspec": {
   "display_name": "Python 3",
   "language": "python",
   "name": "python3"
  },
  "language_info": {
   "codemirror_mode": {
    "name": "ipython",
    "version": 3
   },
   "file_extension": ".py",
   "mimetype": "text/x-python",
   "name": "python",
   "nbconvert_exporter": "python",
   "pygments_lexer": "ipython3",
   "version": "3.10.3"
  },
  "orig_nbformat": 4,
  "vscode": {
   "interpreter": {
    "hash": "aee8b7b246df8f9039afb4144a1f6fd8d2ca17a180786b69acc140d282b71a49"
   }
  }
 },
 "nbformat": 4,
 "nbformat_minor": 2
}
